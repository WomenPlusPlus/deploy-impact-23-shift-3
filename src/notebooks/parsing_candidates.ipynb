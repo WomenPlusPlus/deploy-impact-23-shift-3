{
 "cells": [
  {
   "cell_type": "code",
   "execution_count": 1,
   "metadata": {},
   "outputs": [],
   "source": [
    "import pandas as pd \n",
    "import yaml\n",
    "import notebook_utils as nu"
   ]
  },
  {
   "cell_type": "code",
   "execution_count": 3,
   "metadata": {},
   "outputs": [],
   "source": [
    "#load the files\n",
    "with open('cand_parsing.yaml') as f:\n",
    "    conf_dict = yaml.safe_load(f)\n",
    "language_list = nu.read_csv_to_list (conf_dict['LANGUAGE_PATH'])\n",
    "df = pd.read_csv(conf_dict['TABLE_PATH'], usecols = conf_dict['COLS'].keys())"
   ]
  },
  {
   "cell_type": "code",
   "execution_count": 4,
   "metadata": {},
   "outputs": [],
   "source": [
    "n_cols =df.shape[1]\n",
    "df_IT = df[df['category']=='Information Technology']\n",
    "df_IT = df_IT[df_IT['Experience'].notna()]\n",
    "df_IT.insert(n_cols, 'entry_job', ~df_IT['Experience'].str.contains('|'.join(conf_dict['SENIOR_KEYWORDS'])))\n",
    "df_IT_start = df_IT[df_IT['entry_job']==True]\n",
    "df_IT_start['skills'] = df_IT_start[\"Experience\"].map(lambda x: extract_skills(str(x), language_list))\n",
    "df_IT_start['soft_skills'] = df_IT_start['skills'].map(lambda x: x[0])\n",
    "df_IT_start['hard_skills'] = df_IT_start['skills'].map(lambda x: x[1])\n",
    "df_IT_start['languages'] = df_IT_start['skills'].map(lambda x: x[2])\n",
    "#add column holders\n",
    "df_IT_start.insert(n_cols, 'location_country', ['Switzeland']*len(df_IT_start))\n",
    "df_IT_start.insert(n_cols, 'preffered_name', ['John Smith']*len(df_IT_start))\n",
    "df_IT_start.insert(n_cols, 'location_city', ['Geneva']*len(df_IT_start))\n",
    "df_IT_start.insert(n_cols, 'last_country', ['Switzerland']*len(df_IT_start))\n",
    "df_IT_start.insert(n_cols, 'education', ['Switzeland']*len(df_IT_start))\n",
    "df_IT_start.insert(n_cols, 'work_permission_CH', ['True']*len(df_IT_start))\n",
    "df_IT_start.insert(n_cols, 'date_of_birth', ['20.07.1985']*len(df_IT_start))\n",
    "df_IT_start.insert(n_cols, 'linkedin', ['www.linkedin.com']*len(df_IT_start))\n",
    "df_IT_start.insert(n_cols, 'github', ['www.github.com']*len(df_IT_start))\n",
    "df_IT_start[['first_name', 'last_name']] = df_IT_start['name'].str.split(n=1, expand = True)\n",
    "#rename columns\n",
    "df_IT_start.rename(mapper = conf_dict['COLS'], axis = 1, inplace = True)\n",
    "#drop columns out of interest\n",
    "df_IT_start.drop(columns = ['skills', 'entry_job', 'name'], inplace = True)\n",
    "#drop index\n",
    "df_IT_start.reset_index(drop = True, inplace = True)\n",
    "#save to scv\n",
    "df_IT_start.to_csv('IT_candidates.csv')"
   ]
  }
 ],
 "metadata": {
  "kernelspec": {
   "display_name": "Python 3",
   "language": "python",
   "name": "python3"
  },
  "language_info": {
   "codemirror_mode": {
    "name": "ipython",
    "version": 3
   },
   "file_extension": ".py",
   "mimetype": "text/x-python",
   "name": "python",
   "nbconvert_exporter": "python",
   "pygments_lexer": "ipython3",
   "version": "3.10.10"
  },
  "orig_nbformat": 4
 },
 "nbformat": 4,
 "nbformat_minor": 2
}
