{
 "cells": [
  {
   "cell_type": "code",
   "execution_count": 1,
   "metadata": {},
   "outputs": [],
   "source": [
    "import pandas as pd \n",
    "import yaml\n",
    "import notebook_utils as nu"
   ]
  },
  {
   "cell_type": "code",
   "execution_count": 2,
   "metadata": {},
   "outputs": [],
   "source": [
    "#load the files\n",
    "with open('jobs_parsing.yaml') as f:\n",
    "    conf_dict = yaml.safe_load(f)\n",
    "language_list = nu.read_csv_to_list (conf_dict['LANGUAGE_PATH'])\n",
    "df = pd.read_csv(conf_dict['TABLE_PATH'], usecols = conf_dict['COLS'].keys())"
   ]
  },
  {
   "cell_type": "code",
   "execution_count": null,
   "metadata": {},
   "outputs": [],
   "source": [
    "n_cols =df.shape[1]\n",
    "df['header.jobTitle'] = df['header.jobTitle'].map(lambda x: x.lower())\n",
    "df.insert(n_cols, 'IT_job', df['header.jobTitle'].str.contains('|'.join(conf_dict['TECH_KEYWORDS'])))\n",
    "df.insert(n_cols, 'entry_job', ~df['header.jobTitle'].str.contains('|'.join(conf_dict['SENIOR_KEYWORDS'])))\n",
    "df.insert(n_cols, 'Swiss_based', df[\"map.country\"].map(lambda x: x in conf_dict['SWISS_LOCATION']))\n",
    "\n",
    "df_Swiss_IT  = df.loc[(df['Swiss_based'] ==True) & (df['IT_job'] == True) & (df['entry_job'] == True)]\n",
    "df_Swiss_IT.insert(n_cols, 'job_description', df_Swiss_IT['job.description'].map(lambda x: clean_from_html(str(x))))\n",
    "df_Swiss_IT.insert(n_cols, 'english', df_Swiss_IT[\"job_description\"].map(lambda x: nu.if_en(str(x))))\n",
    "df_Swiss_IT_en = df_Swiss_IT.loc[df_Swiss_IT['english'] ==True]\n",
    "df_Swiss_IT_en.drop(columns=['english', 'job.description', 'IT_job', 'Swiss_based', 'entry_job'], inplace = True)\n",
    "df_Swiss_IT_en.reset_index(drop = True, inplace = True)\n",
    "df_Swiss_IT_en['skills'] = df_Swiss_IT_en[\"job_description\"].map(lambda x: nu.extract_skills(str(x), language_list))\n",
    "df_Swiss_IT_en['soft_skills'] = df_Swiss_IT_en['skills'].map(lambda x: x[0])\n",
    "df_Swiss_IT_en['hard_skills'] = df_Swiss_IT_en['skills'].map(lambda x: x[1])\n",
    "df_Swiss_IT_en['languages'] = df_Swiss_IT_en['skills'].map(lambda x: x[2])\n",
    "\n",
    "df_Swiss_IT_en.rename(mapper = conf_dict['COLS'], axis = 1, inplace = True)\n",
    "df_Swiss_IT_en.drop(columns = ['skills'], inplace = True)\n",
    "df_Swiss_IT_en.to_csv('IT_entry_swiss_jobs.csv')"
   ]
  },
  {
   "attachments": {},
   "cell_type": "markdown",
   "metadata": {},
   "source": [
    "import csv\n",
    "fields = ['langugages']\n",
    "with open('languages.csv', 'w') as f:\n",
    "     \n",
    "    # using csv.writer method from CSV package\n",
    "    write = csv.writer(f)\n",
    "    for item in data_into_list:\n",
    "        write.writerow([item])"
   ]
  }
 ],
 "metadata": {
  "kernelspec": {
   "display_name": "Python 3",
   "language": "python",
   "name": "python3"
  },
  "language_info": {
   "codemirror_mode": {
    "name": "ipython",
    "version": 3
   },
   "file_extension": ".py",
   "mimetype": "text/x-python",
   "name": "python",
   "nbconvert_exporter": "python",
   "pygments_lexer": "ipython3",
   "version": "3.10.10"
  },
  "orig_nbformat": 4
 },
 "nbformat": 4,
 "nbformat_minor": 2
}
